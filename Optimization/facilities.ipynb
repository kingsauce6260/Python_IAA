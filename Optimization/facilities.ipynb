{
 "cells": [
  {
   "cell_type": "code",
   "execution_count": 3,
   "metadata": {
    "collapsed": true,
    "pycharm": {
     "is_executing": false
    }
   },
   "outputs": [],
   "source": [
    "from gurobipy import *"
   ]
  },
  {
   "cell_type": "code",
   "execution_count": 4,
   "outputs": [],
   "source": [
    "# Warehouse demand in thousands of units\n",
    "demand = [15, 18, 14, 20]\n",
    "\n",
    "# Plant capacity in thousands of units\n",
    "capacity = [20, 22, 17, 19, 18]\n",
    "\n",
    "# Fixed costs for each plant\n",
    "fixedCosts = [12000, 15000, 17000, 13000, 16000]\n",
    "\n",
    "# Transportation costs per thousand units\n",
    "transCosts = [[4000, 2000, 3000, 2500, 4500],\n",
    "              [2500, 2600, 3400, 3000, 4000],\n",
    "              [1200, 1800, 2600, 4100, 3000],\n",
    "              [2200, 2600, 3100, 3700, 3200]]\n",
    "\n",
    "# Range of plants and warehouses\n",
    "plants = range(len(capacity))\n",
    "warehouses = range(len(demand))"
   ],
   "metadata": {
    "collapsed": false,
    "pycharm": {
     "name": "#%%\n",
     "is_executing": false
    }
   }
  },
  {
   "cell_type": "code",
   "execution_count": 5,
   "outputs": [
    {
     "name": "stdout",
     "text": [
      "Using license file /Library/gurobi900/gurobi.lic\n",
      "Academic license - for non-commercial use only\n"
     ],
     "output_type": "stream"
    }
   ],
   "source": [
    "# Model\n",
    "m = Model(\"facility\")"
   ],
   "metadata": {
    "collapsed": false,
    "pycharm": {
     "name": "#%%\n",
     "is_executing": false
    }
   }
  },
  {
   "cell_type": "code",
   "execution_count": 6,
   "outputs": [],
   "source": [
    "# Plant open decision variables: open[p] == 1 if plant p is open.\n",
    "open = m.addVars(plants,\n",
    "                 vtype=GRB.BINARY,\n",
    "                 obj=fixedCosts,\n",
    "                 name=\"open\")\n",
    "\n",
    "# Transportation decision variables: transport[w,p] captures the\n",
    "# optimal quantity to transport to warehouse w from plant p\n",
    "transport = m.addVars(warehouses, plants, obj=transCosts, name=\"trans\")\n",
    "\n",
    "# You could use Python looping constructs and m.addVar() to create\n",
    "# these decision variables instead.  The following would be equivalent\n",
    "# to the preceding two statements...\n",
    "#\n",
    "#open = []\n",
    "#for p in plants:\n",
    "#  open.append(m.addVar(vtype=GRB.BINARY,\n",
    "#                       obj=fixedCosts[p],\n",
    "#                       name=\"open[%d]\" % p))\n",
    "#\n",
    "#transport = []\n",
    "#for w in warehouses:\n",
    "#  transport.append([])\n",
    "#  for p in plants:\n",
    "#    transport[w].append(m.addVar(obj=transCosts[w][p],\n",
    "#                                 name=\"trans[%d,%d]\" % (w, p)))"
   ],
   "metadata": {
    "collapsed": false,
    "pycharm": {
     "name": "#%%\n",
     "is_executing": false
    }
   }
  },
  {
   "cell_type": "code",
   "execution_count": 7,
   "outputs": [],
   "source": [
    "# The objective is to minimize the total fixed and variable costs\n",
    "m.modelSense = GRB.MINIMIZE"
   ],
   "metadata": {
    "collapsed": false,
    "pycharm": {
     "name": "#%%\n",
     "is_executing": false
    }
   }
  },
  {
   "cell_type": "code",
   "execution_count": 8,
   "outputs": [
    {
     "data": {
      "text/plain": "{0: <gurobi.Constr *Awaiting Model Update*>,\n 1: <gurobi.Constr *Awaiting Model Update*>,\n 2: <gurobi.Constr *Awaiting Model Update*>,\n 3: <gurobi.Constr *Awaiting Model Update*>}"
     },
     "metadata": {},
     "output_type": "execute_result",
     "execution_count": 8
    }
   ],
   "source": [
    "# Production constraints\n",
    "# Note that the right-hand limit sets the production to zero if the plant\n",
    "# is closed\n",
    "m.addConstrs(\n",
    "    (transport.sum('*',p) <= capacity[p]*open[p] for p in plants),\n",
    "    \"Capacity\")\n",
    "\n",
    "# Using Python looping constructs, the preceding would be...\n",
    "#\n",
    "#for p in plants:\n",
    "#  m.addConstr(sum(transport[w][p] for w in warehouses) <= capacity[p] * open[p],\n",
    "#              \"Capacity[%d]\" % p)\n",
    "\n",
    "# Demand constraints\n",
    "m.addConstrs(\n",
    "    (transport.sum(w) == demand[w] for w in warehouses),\n",
    "    \"Demand\")\n",
    "\n",
    "# ... and the preceding would be ...\n",
    "#for w in warehouses:\n",
    "#  m.addConstr(sum(transport[w][p] for p in plants) == demand[w], \"Demand[%d]\" % w)"
   ],
   "metadata": {
    "collapsed": false,
    "pycharm": {
     "name": "#%%\n",
     "is_executing": false
    }
   }
  },
  {
   "cell_type": "code",
   "execution_count": 9,
   "outputs": [],
   "source": [
    "# Save model\n",
    "m.write('facilityPY.lp')"
   ],
   "metadata": {
    "collapsed": false,
    "pycharm": {
     "name": "#%%\n",
     "is_executing": false
    }
   }
  },
  {
   "cell_type": "code",
   "execution_count": 10,
   "outputs": [],
   "source": [
    "# Guess at the starting point: close the plant with the highest fixed costs;\n",
    "# open all others\n",
    "\n",
    "# First, open all plants\n",
    "for p in plants:\n",
    "    open[p].start = 1.0"
   ],
   "metadata": {
    "collapsed": false,
    "pycharm": {
     "name": "#%%\n",
     "is_executing": false
    }
   }
  },
  {
   "cell_type": "code",
   "execution_count": 11,
   "outputs": [
    {
     "name": "stdout",
     "text": [
      "Initial guess:\nClosing plant 2\n\n"
     ],
     "output_type": "stream"
    }
   ],
   "source": [
    "# Now close the plant with the highest fixed cost\n",
    "print('Initial guess:')\n",
    "maxFixed = max(fixedCosts)\n",
    "for p in plants:\n",
    "    if fixedCosts[p] == maxFixed:\n",
    "        open[p].start = 0.0\n",
    "        print('Closing plant %s' % p)\n",
    "        break\n",
    "print('')"
   ],
   "metadata": {
    "collapsed": false,
    "pycharm": {
     "name": "#%%\n",
     "is_executing": false
    }
   }
  },
  {
   "cell_type": "code",
   "execution_count": 12,
   "outputs": [
    {
     "name": "stdout",
     "text": [
      "Changed value of parameter method to 2\n",
      "   Prev: -1  Min: -1  Max: 5  Default: -1\n"
     ],
     "output_type": "stream"
    }
   ],
   "source": [
    "# Use barrier to solve root relaxation\n",
    "m.Params.method = 2"
   ],
   "metadata": {
    "collapsed": false,
    "pycharm": {
     "name": "#%%\n",
     "is_executing": false
    }
   }
  },
  {
   "cell_type": "code",
   "execution_count": 13,
   "outputs": [
    {
     "name": "stdout",
     "text": [
      "Gurobi Optimizer version 9.0.0 build v9.0.0rc2 (mac64)\n",
      "Optimize a model with 9 rows, 25 columns and 45 nonzeros\n",
      "Model fingerprint: 0x1aa90ab3\n",
      "Variable types: 20 continuous, 5 integer (5 binary)\n",
      "Coefficient statistics:\n",
      "  Matrix range     [1e+00, 2e+01]\n",
      "  Objective range  [1e+03, 2e+04]\n",
      "  Bounds range     [1e+00, 1e+00]\n",
      "  RHS range        [1e+01, 2e+01]\n",
      "\n",
      "User MIP start produced solution with objective 210500 (0.01s)\n",
      "Loaded user MIP start with objective 210500\n",
      "\n",
      "Presolve time: 0.00s\n",
      "Presolved: 9 rows, 25 columns, 45 nonzeros\n",
      "Variable types: 20 continuous, 5 integer (5 binary)\n",
      "Root barrier log...\n",
      "\n",
      "Ordering time: 0.00s\n",
      "\n",
      "Barrier statistics:\n",
      " AA' NZ     : 2.000e+01\n",
      " Factor NZ  : 4.500e+01\n",
      " Factor Ops : 2.850e+02 (less than 1 second per iteration)\n",
      " Threads    : 1\n",
      "\n",
      "                  Objective                Residual\n",
      "Iter       Primal          Dual         Primal    Dual     Compl     Time\n",
      "   0   7.94290841e+05 -2.24842916e+05  7.25e+00 3.75e+03  2.69e+04     0s\n",
      "   1   2.34432856e+05  7.59319096e+04  1.78e-15 7.28e-12  3.17e+03     0s\n",
      "   2   2.10232015e+05  1.89880475e+05  6.11e-16 3.64e-12  4.07e+02     0s\n",
      "   3   2.00964341e+05  1.98582137e+05  1.69e-14 3.64e-12  4.76e+01     0s\n",
      "   4   1.99878036e+05  1.99804970e+05  1.78e-13 3.64e-12  1.46e+00     0s\n",
      "   5   1.99833638e+05  1.99832960e+05  1.14e-13 1.82e-12  1.36e-02     0s\n",
      "   6   1.99833333e+05  1.99833333e+05  2.33e-14 3.64e-12  1.39e-08     0s\n",
      "   7   1.99833333e+05  1.99833333e+05  7.11e-15 3.64e-12  1.39e-14     0s\n",
      "\n",
      "Barrier solved model in 7 iterations and 0.04 seconds\n",
      "Optimal objective 1.99833333e+05\n",
      "\n",
      "\n",
      "Root relaxation: objective 1.998333e+05, 6 iterations, 0.03 seconds\n",
      "\n",
      "    Nodes    |    Current Node    |     Objective Bounds      |     Work\n",
      " Expl Unexpl |  Obj  Depth IntInf | Incumbent    BestBd   Gap | It/Node Time\n",
      "\n",
      "     0     0 199833.333    0    1 210500.000 199833.333  5.07%     -    0s\n",
      "     0     0 200252.941    0    1 210500.000 200252.941  4.87%     -    0s\n",
      "     0     0 210500.000    0    1 210500.000 210500.000  0.00%     -    0s\n",
      "\n",
      "Cutting planes:\n",
      "  Flow cover: 3\n",
      "\n",
      "Explored 1 nodes (11 simplex iterations) in 0.06 seconds\n",
      "Thread count was 8 (of 8 available processors)\n",
      "\n",
      "Solution count 1: 210500 \n",
      "\n",
      "Optimal solution found (tolerance 1.00e-04)\n",
      "Best objective 2.105000000000e+05, best bound 2.105000000000e+05, gap 0.0000%\n"
     ],
     "output_type": "stream"
    }
   ],
   "source": [
    "# Solve\n",
    "m.optimize()"
   ],
   "metadata": {
    "collapsed": false,
    "pycharm": {
     "name": "#%%\n",
     "is_executing": false
    }
   }
  },
  {
   "cell_type": "code",
   "execution_count": 14,
   "outputs": [
    {
     "name": "stdout",
     "text": [
      "\nTOTAL COSTS: 210500\nSOLUTION:\nPlant 0 open\n  Transport 14 units to warehouse 2\n  Transport 6 units to warehouse 3\nPlant 1 open\n  Transport 14 units to warehouse 0\n  Transport 8 units to warehouse 3\nPlant 2 closed!\nPlant 3 open\n  Transport 1 units to warehouse 0\n  Transport 18 units to warehouse 1\nPlant 4 open\n  Transport 6 units to warehouse 3\n"
     ],
     "output_type": "stream"
    }
   ],
   "source": [
    "# Print solution\n",
    "print('\\nTOTAL COSTS: %g' % m.objVal)\n",
    "print('SOLUTION:')\n",
    "for p in plants:\n",
    "    if open[p].x > 0.99:\n",
    "        print('Plant %s open' % p)\n",
    "        for w in warehouses:\n",
    "            if transport[w,p].x > 0:\n",
    "                print('  Transport %g units to warehouse %s' % \\\n",
    "                      (transport[w,p].x, w))\n",
    "    else:\n",
    "        print('Plant %s closed!' % p)\n"
   ],
   "metadata": {
    "collapsed": false,
    "pycharm": {
     "name": "#%%\n",
     "is_executing": false
    }
   }
  },
  {
   "cell_type": "code",
   "execution_count": null,
   "outputs": [],
   "source": [
    "\n"
   ],
   "metadata": {
    "collapsed": false,
    "pycharm": {
     "name": "#%%\n"
    }
   }
  }
 ],
 "metadata": {
  "kernelspec": {
   "display_name": "Python 3",
   "language": "python",
   "name": "python3"
  },
  "language_info": {
   "codemirror_mode": {
    "name": "ipython",
    "version": 2
   },
   "file_extension": ".py",
   "mimetype": "text/x-python",
   "name": "python",
   "nbconvert_exporter": "python",
   "pygments_lexer": "ipython2",
   "version": "2.7.6"
  },
  "pycharm": {
   "stem_cell": {
    "cell_type": "raw",
    "source": [],
    "metadata": {
     "collapsed": false
    }
   }
  }
 },
 "nbformat": 4,
 "nbformat_minor": 0
}